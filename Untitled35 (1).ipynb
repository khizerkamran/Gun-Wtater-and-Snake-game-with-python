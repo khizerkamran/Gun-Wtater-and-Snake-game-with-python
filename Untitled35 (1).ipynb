{
  "nbformat": 4,
  "nbformat_minor": 0,
  "metadata": {
    "colab": {
      "name": "Untitled35.ipynb",
      "provenance": [],
      "collapsed_sections": []
    },
    "kernelspec": {
      "name": "python3",
      "display_name": "Python 3"
    },
    "language_info": {
      "name": "python"
    }
  },
  "cells": [
    {
      "cell_type": "code",
      "metadata": {
        "colab": {
          "base_uri": "https://localhost:8080/"
        },
        "id": "rbHWriDTwRPO",
        "outputId": "946d2635-d3f0-480e-c42b-a41b7209bf50"
      },
      "source": [
        "import random as r\n",
        "o=['water','snake','gun']\n",
        "print(o)\n",
        "\n",
        "\n",
        "no=int(input('rounds'))\n",
        "\n",
        "userPoint=0\n",
        "\n",
        "computerPoint=0\n",
        "\n",
        "ro=1\n",
        "\n",
        "while ro<=no:\n",
        "  user=input('chose one:')\n",
        "  cmp=r.choice(o)\n",
        "  print('computer:',cmp)\n",
        "  \n",
        "\n",
        "  if user not in o:\n",
        "    print('Invallid input')\n",
        "  \n",
        "  else:\n",
        "    if cmp=='snake':\n",
        "      if user=='gun':\n",
        "        userPoint+=1\n",
        "        print('you win round',ro)\n",
        "      elif user=='water':\n",
        "        computerPoint+=1\n",
        "        print('you lose round',ro)\n",
        "        \n",
        "      else:\n",
        "        print('draw round',ro)\n",
        "    if cmp=='gun':\n",
        "      \n",
        "\n",
        "       if user=='snake':\n",
        "         computerPoint+=1\n",
        "         print('you lose round',ro)\n",
        "\n",
        "       elif user=='water':\n",
        "         userPoint+=1\n",
        "         print('you win round',ro)\n",
        "\n",
        "       else:\n",
        "         print('draw round',ro)\n",
        "    if cmp=='water':\n",
        "      if user=='snake':\n",
        "         userPoint+=1\n",
        "         print('you win round',ro)\n",
        "      elif user=='gun':\n",
        "        computerPoint+=1\n",
        "        print('you lose round',ro)\n",
        "      else:\n",
        "        print('draw round',ro)\n",
        "  ro+=1\n",
        "  \n",
        "if userPoint>computerPoint:\n",
        "  print('user win')\n",
        "    \n",
        "elif computerPoint>userPoint:\n",
        "  print('you loss')\n",
        "\n",
        "else:\n",
        "  print('draw')\n",
        "print('computer points:',computerPoint)\n",
        "\n",
        "print('user points:',userPoint)\n",
        "\n",
        "\n",
        "\n",
        "\n",
        "  \n",
        "\n",
        "\n",
        "  \n",
        "  \n",
        "  \n",
        "  \n",
        "         \n",
        "    \n",
        "\n"
      ],
      "execution_count": 1,
      "outputs": [
        {
          "output_type": "stream",
          "text": [
            "['water', 'snake', 'gun']\n",
            "rounds3\n",
            "chose one:gun\n",
            "computer: gun\n",
            "draw round 1\n",
            "chose one:water\n",
            "computer: gun\n",
            "you win round 2\n",
            "chose one:snake\n",
            "computer: snake\n",
            "draw round 3\n",
            "user win\n",
            "computer points: 0\n",
            "user points: 1\n"
          ],
          "name": "stdout"
        }
      ]
    }
  ]
}